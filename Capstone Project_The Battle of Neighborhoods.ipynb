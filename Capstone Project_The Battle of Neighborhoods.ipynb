{
    "cells": [
        {
            "metadata": {
                "collapsed": true
            },
            "cell_type": "markdown",
            "source": "# DataCon Conference"
        },
        {
            "metadata": {},
            "cell_type": "markdown",
            "source": "## Introduction/Business Problem"
        },
        {
            "metadata": {},
            "cell_type": "markdown",
            "source": "Scenario: You are a travel agent with access to a great data scientist in the team.\n\nThe International Conference on Data Science for Workforce Management ICDSWM will take place on January 28-29, 2022 in New York, United States. In this scenario, a lot of international delegates will attend the conference: many of them will be travelling to New York for the first time. As New York is such a huge city, it can be scary for a data scientist to visit alone for the first time. Many other data scientists from different countries, need to plan their travel to New York - flights are the easy part. The event will take place at Pier 94 in New York.\n\nAs this many of the target audience's first time visiting New York, they would like to be close to the venue. They would also want to know about the safety of the neigborhoods close to the venue, ratings of hotels close to the venue, restuarants where they can eat, as well as mingle with other delegates close to venue after each long day of data science lectures overload.\n\nHow do we get the best place to stay for the data scientists, but also offer alternatives in case they want something else?"
        },
        {
            "metadata": {},
            "cell_type": "markdown",
            "source": "## The Data"
        },
        {
            "metadata": {},
            "cell_type": "markdown",
            "source": "Fortunately we have access to Foursquare data, as well as good data scientist in our team.\n\nHe will use the API from Foursquare to determine crime in the neighborhoods in the vaccinity of the conference centre; look for suggestions for restuarants with good ratings from users to suggest to the delegates, as well as hotels and ratings to give them choice of where to stay. Our success will be measured by the manual reviews we receive from our delegates we are doing the travel planning for."
        },
        {
            "metadata": {},
            "cell_type": "code",
            "source": "",
            "execution_count": null,
            "outputs": []
        }
    ],
    "metadata": {
        "kernelspec": {
            "name": "python3",
            "display_name": "Python 3.7",
            "language": "python"
        },
        "language_info": {
            "name": "python",
            "version": "3.7.10",
            "mimetype": "text/x-python",
            "codemirror_mode": {
                "name": "ipython",
                "version": 3
            },
            "pygments_lexer": "ipython3",
            "nbconvert_exporter": "python",
            "file_extension": ".py"
        }
    },
    "nbformat": 4,
    "nbformat_minor": 1
}