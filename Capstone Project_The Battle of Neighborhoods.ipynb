{
    "cells": [
        {
            "metadata": {
                "collapsed": true
            },
            "cell_type": "markdown",
            "source": "# The International Conference on Data Science for Workforce Management"
        },
        {
            "metadata": {},
            "cell_type": "markdown",
            "source": "## The business problem and the target market"
        },
        {
            "metadata": {},
            "cell_type": "markdown",
            "source": "Scenario: You are a travel agent with access to a great data scientist in the team\n\nBusiness Problem: The International Conference on Data Science for Workforce Management ICDSWM will take place on January 28-29, 2022 in New York, United States. In this scenario, a lot of international delegates will attend the conference: many of them will be travelling to New York for the first time. As New York is such a huge city, it can be scary for a data scientist to visit alone for the first time. Many other data scientists from different countries, need to plan their travel to New York - flights are the easy part. The event will take place at Piers 92/94 in Manhattan, New York. As this many of the target audience's first time visiting New York, so they want to know about the most highly recommended hotels/restaurants/recreation places close to the venue after each long day of data science lectures overload.\n\nTarget Market: Attendees for The International Conference on Data Science for Workforce Management ICDSWM, as well as the travel agency\u2019s future clients for big events where we can demonstrate our results of previous client satisfaction.",
            "attachments": {}
        },
        {
            "metadata": {},
            "cell_type": "markdown",
            "source": "## The data which will be used to solve the problem and the source of the data"
        },
        {
            "metadata": {},
            "cell_type": "markdown",
            "source": "Fortunately we have access to Foursquare data, as well as good data scientist in our team.\n\nWe will have to look for he most highly recommended hotels/restaurants/recreation places close to the venue which will be illustrated in an IBM Watson Studio Notebook. We will use the API from Foursquare determine the pre-mentioned data.\n\nOur success will be measured by the manual reviews (Survey Monkey mock results) we receive from our delegates we are doing the travel planning for, asking key questions which we can use for future clients and events planning."
        },
        {
            "metadata": {},
            "cell_type": "markdown",
            "source": "## Methodology section"
        },
        {
            "metadata": {},
            "cell_type": "markdown",
            "source": "The data scientist will determine suggestions for the most highly recommended hotels/restaurants/recreation places based on consumer ratings to suggest to the delegates. We will apply the Folium library to visualize the neighborhoods close to Piers 92/94 in Manhattan, New York by:\n\nDownload and Explore Dataset from Foursquare: Load and explore the data, transform the data into a pandas dataframe, loop through the data and fill the dataframe one row at a time, use geopy library to get the latitude and longitude values, create a map of Manhattan with neighborhood superimposed on top, import data from Foursquare, get the top 10 recommended restuarants/hotels/recreation facilities that are within a close radius of Piers 92/94, send the GET request and examine the results and then clean the json and structure it into a pandas dataframe.\n\nWe can then explore and analyze the most highly recommended hotels/restaurants/recreation places close to the venue.\n\nAnalyze the neighbourhood for the most highly recommended hotels/restaurants/recreation places within a close radius of Piers 92/94.\n\nCluster the neighbourhood on a map.\n\nUse Survey Monkey to see how our delegates rated their experience (mock results).",
            "attachments": {}
        },
        {
            "metadata": {},
            "cell_type": "markdown",
            "source": "## Results section"
        },
        {
            "metadata": {},
            "cell_type": "code",
            "source": "import requests # library to handle requests\nimport pandas as pd # library for data analsysis\nimport numpy as np # library to handle data in a vectorized manner\nimport random # library for random number generation\n\n\n!pip install geopy\nfrom geopy.geocoders import Nominatim # module to convert an address into latitude and longitude values\n\n# libraries for displaying images\nfrom IPython.display import Image \nfrom IPython.core.display import HTML \n    \n# tranforming json file into a pandas dataframe library\nfrom pandas.io.json import json_normalize\n\n\n! pip install folium==0.5.0\nimport folium # plotting library\n\nprint('Folium installed')\nprint('Libraries imported.')",
            "execution_count": 76,
            "outputs": [
                {
                    "output_type": "stream",
                    "text": "Requirement already satisfied: geopy in /opt/conda/envs/Python-3.7-main/lib/python3.7/site-packages (2.0.0)\nRequirement already satisfied: geographiclib<2,>=1.49 in /opt/conda/envs/Python-3.7-main/lib/python3.7/site-packages (from geopy) (1.50)\nRequirement already satisfied: folium==0.5.0 in /opt/conda/envs/Python-3.7-main/lib/python3.7/site-packages (0.5.0)\nRequirement already satisfied: branca in /opt/conda/envs/Python-3.7-main/lib/python3.7/site-packages (from folium==0.5.0) (0.4.2)\nRequirement already satisfied: jinja2 in /opt/conda/envs/Python-3.7-main/lib/python3.7/site-packages (from folium==0.5.0) (3.0.1)\nRequirement already satisfied: requests in /opt/conda/envs/Python-3.7-main/lib/python3.7/site-packages (from folium==0.5.0) (2.25.1)\nRequirement already satisfied: six in /opt/conda/envs/Python-3.7-main/lib/python3.7/site-packages (from folium==0.5.0) (1.15.0)\nRequirement already satisfied: MarkupSafe>=2.0 in /opt/conda/envs/Python-3.7-main/lib/python3.7/site-packages (from jinja2->folium==0.5.0) (2.0.1)\nRequirement already satisfied: chardet<5,>=3.0.2 in /opt/conda/envs/Python-3.7-main/lib/python3.7/site-packages (from requests->folium==0.5.0) (4.0.0)\nRequirement already satisfied: certifi>=2017.4.17 in /opt/conda/envs/Python-3.7-main/lib/python3.7/site-packages (from requests->folium==0.5.0) (2021.5.30)\nRequirement already satisfied: urllib3<1.27,>=1.21.1 in /opt/conda/envs/Python-3.7-main/lib/python3.7/site-packages (from requests->folium==0.5.0) (1.26.6)\nRequirement already satisfied: idna<3,>=2.5 in /opt/conda/envs/Python-3.7-main/lib/python3.7/site-packages (from requests->folium==0.5.0) (2.10)\nFolium installed\nLibraries imported.\n",
                    "name": "stdout"
                }
            ]
        },
        {
            "metadata": {},
            "cell_type": "code",
            "source": "CLIENT_ID = '1SW0VJT5YO35JBZH3A1YHJSFS1EJL4LZHF42VGJXQFRVYZVQ' # your Foursquare ID\nCLIENT_SECRET = 'ZUPAYEWD4WP1JYQNSWPTRDN2AK32TJM513LEP4BXXELR3GGV' # your Foursquare Secret\nACCESS_TOKEN = 'HF2PQ5MHEDTZNOBV43LN1LWT5N531HGMU3RHUHDIOT4XYTX4' # your FourSquare Access Token\nVERSION = '20210526'\nLIMIT = 30\nprint('Your credentails: juan-pierre.grimbeek@wmglobal.com')\nprint('1SW0VJT5YO35JBZH3A1YHJSFS1EJL4LZHF42VGJXQFRVYZVQ:')\nprint('ZUPAYEWD4WP1JYQNSWPTRDN2AK32TJM513LEP4BXXELR3GGV:')",
            "execution_count": 12,
            "outputs": [
                {
                    "output_type": "stream",
                    "text": "Your credentails: juan-pierre.grimbeek@wmglobal.com\n1SW0VJT5YO35JBZH3A1YHJSFS1EJL4LZHF42VGJXQFRVYZVQ:\nZUPAYEWD4WP1JYQNSWPTRDN2AK32TJM513LEP4BXXELR3GGV:\n",
                    "name": "stdout"
                }
            ]
        },
        {
            "metadata": {},
            "cell_type": "code",
            "source": "!pip install geopy\nfrom geopy.geocoders import Nominatim",
            "execution_count": 13,
            "outputs": [
                {
                    "output_type": "stream",
                    "text": "Requirement already satisfied: geopy in /opt/conda/envs/Python-3.7-main/lib/python3.7/site-packages (2.0.0)\nRequirement already satisfied: geographiclib<2,>=1.49 in /opt/conda/envs/Python-3.7-main/lib/python3.7/site-packages (from geopy) (1.50)\n",
                    "name": "stdout"
                }
            ]
        },
        {
            "metadata": {
                "scrolled": false
            },
            "cell_type": "code",
            "source": "address = 'Piers 92/94, New York, NY'\n\ngeolocator = Nominatim(user_agent=\"foursquare_agent\")\nlocation = geolocator.geocode(address)\nlatitude = location.latitude\nlongitude = location.longitude\nprint(latitude, longitude)",
            "execution_count": 110,
            "outputs": [
                {
                    "output_type": "stream",
                    "text": "40.76945465 -73.99922200263258\n",
                    "name": "stdout"
                }
            ]
        },
        {
            "metadata": {},
            "cell_type": "code",
            "source": "import requests\n\nrequest_parameters = {\n    \"client_id\": '1SW0VJT5YO35JBZH3A1YHJSFS1EJL4LZHF42VGJXQFRVYZVQ',\n    \"client_secret\": 'ZUPAYEWD4WP1JYQNSWPTRDN2AK32TJM513LEP4BXXELR3GGV',\n    \"v\": '20210526',\n    \"section\": \"Restuarants, Hotels, Recreation\",\n    \"near\": \"Manhattan\",\n    \"radius\": 500,\n    \"limit\": 15}\n\nurl = requests.get(\"https://api.foursquare.com/v2/venues/explore\", params=request_parameters)",
            "execution_count": 127,
            "outputs": []
        },
        {
            "metadata": {},
            "cell_type": "code",
            "source": "search_query = 'Restuarants, Hotels, Recreation'\nradius = 500\nprint(search_query + ' .... OK!')",
            "execution_count": 128,
            "outputs": [
                {
                    "output_type": "stream",
                    "text": "Restuarants, Hotels, Recreation .... OK!\n",
                    "name": "stdout"
                }
            ]
        },
        {
            "metadata": {},
            "cell_type": "code",
            "source": "url = 'https://api.foursquare.com/v2/venues/search?client_id={1SW0VJT5YO35JBZH3A1YHJSFS1EJL4LZHF42VGJXQFRVYZVQ}&client_secret={ ZUPAYEWD4WP1JYQNSWPTRDN2AK32TJM513LEP4BXXELR3GGV}&ll={40.76945465},{-73.99922200263258}&oauth_token={HF2PQ5MHEDTZNOBV43LN1LWT5N531HGMU3RHUHDIOT4XYTX4}&v={20210526}&query={Hotel}&radius={500}&limit={10}'\nurl",
            "execution_count": 129,
            "outputs": [
                {
                    "output_type": "execute_result",
                    "execution_count": 129,
                    "data": {
                        "text/plain": "'https://api.foursquare.com/v2/venues/search?client_id={1SW0VJT5YO35JBZH3A1YHJSFS1EJL4LZHF42VGJXQFRVYZVQ}&client_secret={ ZUPAYEWD4WP1JYQNSWPTRDN2AK32TJM513LEP4BXXELR3GGV}&ll={40.76945465},{-73.99922200263258}&oauth_token={HF2PQ5MHEDTZNOBV43LN1LWT5N531HGMU3RHUHDIOT4XYTX4}&v={20210526}&query={Hotel}&radius={500}&limit={10}'"
                    },
                    "metadata": {}
                }
            ]
        },
        {
            "metadata": {},
            "cell_type": "code",
            "source": "d = data.json()[\"response\"]\nd.keys()",
            "execution_count": 130,
            "outputs": [
                {
                    "output_type": "execute_result",
                    "execution_count": 130,
                    "data": {
                        "text/plain": "dict_keys(['suggestedFilters', 'geocode', 'headerLocation', 'headerFullLocation', 'headerLocationGranularity', 'totalResults', 'suggestedBounds', 'groups'])"
                    },
                    "metadata": {}
                }
            ]
        },
        {
            "metadata": {},
            "cell_type": "code",
            "source": "d[\"headerLocationGranularity\"], d[\"headerLocation\"], d[\"headerFullLocation\"]",
            "execution_count": 131,
            "outputs": [
                {
                    "output_type": "execute_result",
                    "execution_count": 131,
                    "data": {
                        "text/plain": "('city', 'Manhattan', 'Manhattan')"
                    },
                    "metadata": {}
                }
            ]
        },
        {
            "metadata": {},
            "cell_type": "code",
            "source": "d[\"suggestedBounds\"], d[\"totalResults\"]",
            "execution_count": 132,
            "outputs": [
                {
                    "output_type": "execute_result",
                    "execution_count": 132,
                    "data": {
                        "text/plain": "({'ne': {'lat': 40.786982183438745, 'lng': -73.96214279883566},\n  'sw': {'lat': 40.7793067418033, 'lng': -73.9703523923398}},\n 40)"
                    },
                    "metadata": {}
                }
            ]
        },
        {
            "metadata": {},
            "cell_type": "code",
            "source": "d[\"geocode\"]",
            "execution_count": 133,
            "outputs": [
                {
                    "output_type": "execute_result",
                    "execution_count": 133,
                    "data": {
                        "text/plain": "{'what': '',\n 'where': 'manhattan',\n 'center': {'lat': 40.78343, 'lng': -73.96625},\n 'displayString': 'Manhattan, NY, United States',\n 'cc': 'US',\n 'geometry': {'bounds': {'ne': {'lat': 40.882214, 'lng': -73.907},\n   'sw': {'lat': 40.679548, 'lng': -74.047285}}},\n 'slug': 'manhattan-manhattan-new-york-united-states',\n 'longId': '72057594043053707'}"
                    },
                    "metadata": {}
                }
            ]
        },
        {
            "metadata": {},
            "cell_type": "code",
            "source": "d[\"groups\"][0].keys()",
            "execution_count": 134,
            "outputs": [
                {
                    "output_type": "execute_result",
                    "execution_count": 134,
                    "data": {
                        "text/plain": "dict_keys(['type', 'name', 'items'])"
                    },
                    "metadata": {}
                }
            ]
        },
        {
            "metadata": {},
            "cell_type": "code",
            "source": "d[\"groups\"][0][\"type\"], d[\"groups\"][0][\"name\"]",
            "execution_count": 135,
            "outputs": [
                {
                    "output_type": "execute_result",
                    "execution_count": 135,
                    "data": {
                        "text/plain": "('Recommended Places', 'recommended')"
                    },
                    "metadata": {}
                }
            ]
        },
        {
            "metadata": {},
            "cell_type": "code",
            "source": "items = d[\"groups\"][0][\"items\"]\nprint(\"number of items: %i\" % len(items))\nitems[0]",
            "execution_count": 101,
            "outputs": [
                {
                    "output_type": "stream",
                    "text": "number of items: 10\n",
                    "name": "stdout"
                },
                {
                    "output_type": "execute_result",
                    "execution_count": 101,
                    "data": {
                        "text/plain": "{'reasons': {'count': 0,\n  'items': [{'summary': 'This spot is popular',\n    'type': 'general',\n    'reasonName': 'globalInteractionReason'}]},\n 'venue': {'id': '412d2800f964a520df0c1fe3',\n  'name': 'Central Park',\n  'location': {'address': '59th St to 110th St',\n   'crossStreet': '5th Ave to Central Park West',\n   'lat': 40.78307608904521,\n   'lng': -73.96549701690674,\n   'labeledLatLngs': [{'label': 'display',\n     'lat': 40.78307608904521,\n     'lng': -73.96549701690674}],\n   'postalCode': '10028',\n   'cc': 'US',\n   'city': 'New York',\n   'state': 'NY',\n   'country': 'United States',\n   'formattedAddress': ['59th St to 110th St (5th Ave to Central Park West)',\n    'New York, NY 10028',\n    'United States']},\n  'categories': [{'id': '4bf58dd8d48988d163941735',\n    'name': 'Park',\n    'pluralName': 'Parks',\n    'shortName': 'Park',\n    'icon': {'prefix': 'https://ss3.4sqi.net/img/categories_v2/parks_outdoors/park_',\n     'suffix': '.png'},\n    'primary': True}],\n  'photos': {'count': 0, 'groups': []}},\n 'referralId': 'e-0-412d2800f964a520df0c1fe3-0'}"
                    },
                    "metadata": {}
                }
            ]
        },
        {
            "metadata": {},
            "cell_type": "code",
            "source": "df_raw = []\nfor item in items:\n    venue = item[\"venue\"]\n    categories, uid, name, location = venue[\"categories\"], venue[\"id\"], venue[\"name\"], venue[\"location\"]\n    print(location)\n    assert len(categories) == 1\n    shortname = categories[0][\"shortName\"]\n    address =  ''\n    if hasattr(location, 'address'):\n      address = location['address']\n    if not \"postalCode\" in location:\n        continue\n    postalcode = location[\"postalCode\"]\n    lat = location[\"lat\"]\n    lng = location[\"lng\"]\n    datarow = (uid, name, shortname, address, postalcode, lat, lng)\n    df_raw.append(datarow)\ndf = pd.DataFrame(df_raw, columns=[\"uid\", \"name\", \"shortname\", \"address\", \"postalcode\", \"lat\", \"lng\"])\nprint(\"found %i cafes\" % len(df))\ndf.head()",
            "execution_count": 136,
            "outputs": [
                {
                    "output_type": "stream",
                    "text": "{'address': '59th St to 110th St', 'crossStreet': '5th Ave to Central Park West', 'lat': 40.78307608904521, 'lng': -73.96549701690674, 'labeledLatLngs': [{'label': 'display', 'lat': 40.78307608904521, 'lng': -73.96549701690674}], 'postalCode': '10028', 'cc': 'US', 'city': 'New York', 'state': 'NY', 'country': 'United States', 'formattedAddress': ['59th St to 110th St (5th Ave to Central Park West)', 'New York, NY 10028', 'United States']}\n{'address': 'Central Park', 'crossStreet': 'btwn 85th & 96th St', 'lat': 40.78502085756961, 'lng': -73.96251596217675, 'postalCode': '10024', 'cc': 'US', 'neighborhood': 'Central Park', 'city': 'New York', 'state': 'NY', 'country': 'United States', 'formattedAddress': ['Central Park (btwn 85th & 96th St)', 'New York, NY 10024', 'United States']}\n{'address': 'Central Park W', 'crossStreet': 'at W 86th St', 'lat': 40.785416912200375, 'lng': -73.96951937240297, 'labeledLatLngs': [{'label': 'display', 'lat': 40.785416912200375, 'lng': -73.96951937240297}], 'postalCode': '10024', 'cc': 'US', 'city': 'New York', 'state': 'NY', 'country': 'United States', 'formattedAddress': ['Central Park W (at W 86th St)', 'New York, NY 10024', 'United States']}\n{'lat': 40.783468165618885, 'lng': -73.96554352790373, 'labeledLatLngs': [{'label': 'display', 'lat': 40.783468165618885, 'lng': -73.96554352790373}], 'postalCode': '10024', 'cc': 'US', 'city': 'New York', 'state': 'NY', 'country': 'United States', 'formattedAddress': ['New York, NY 10024', 'United States']}\n{'crossStreet': 'just south of 85th street entrance at CPW', 'lat': 40.783461096319215, 'lng': -73.9699792289987, 'labeledLatLngs': [{'label': 'display', 'lat': 40.783461096319215, 'lng': -73.9699792289987}], 'postalCode': '10024', 'cc': 'US', 'city': 'New York', 'state': 'NY', 'country': 'United States', 'formattedAddress': ['New York, NY 10024', 'United States']}\n{'address': 'Central Park', 'crossStreet': 'at 79th St', 'lat': 40.78026521337381, 'lng': -73.96878004074097, 'labeledLatLngs': [{'label': 'display', 'lat': 40.78026521337381, 'lng': -73.96878004074097}], 'postalCode': '10028', 'cc': 'US', 'neighborhood': 'Central Park', 'city': 'New York', 'state': 'NY', 'country': 'United States', 'formattedAddress': ['Central Park (at 79th St)', 'New York, NY 10028', 'United States']}\n{'address': 'Central Park', 'crossStreet': 'at E 83rd St', 'lat': 40.780985413120106, 'lng': -73.96449625006831, 'labeledLatLngs': [{'label': 'display', 'lat': 40.780985413120106, 'lng': -73.96449625006831}], 'postalCode': '10028', 'cc': 'US', 'city': 'New York', 'state': 'NY', 'country': 'United States', 'formattedAddress': ['Central Park (at E 83rd St)', 'New York, NY 10028', 'United States']}\n{'address': 'East Side', 'crossStreet': 'at 81st St', 'lat': 40.779655625514, 'lng': -73.96542213467797, 'labeledLatLngs': [{'label': 'display', 'lat': 40.779655625514, 'lng': -73.96542213467797}], 'postalCode': '10028', 'cc': 'US', 'city': 'New York', 'state': 'NY', 'country': 'United States', 'formattedAddress': ['East Side (at 81st St)', 'New York, NY 10028', 'United States']}\n{'address': '1000 5th Ave', 'crossStreet': 'at 83rd St.', 'lat': 40.780411446833284, 'lng': -73.96267533302307, 'labeledLatLngs': [{'label': 'display', 'lat': 40.780411446833284, 'lng': -73.96267533302307}], 'postalCode': '10028', 'cc': 'US', 'city': 'New York', 'state': 'NY', 'country': 'United States', 'formattedAddress': ['1000 5th Ave (at 83rd St.)', 'New York, NY 10028', 'United States']}\n{'address': 'Central Park West', 'crossStreet': 'W 88th St.', 'lat': 40.78663329972804, 'lng': -73.96844503976378, 'labeledLatLngs': [{'label': 'display', 'lat': 40.78663329972804, 'lng': -73.96844503976378}], 'postalCode': '10024', 'cc': 'US', 'city': 'New York', 'state': 'NY', 'country': 'United States', 'formattedAddress': ['Central Park West (W 88th St.)', 'New York, NY 10024', 'United States']}\nfound 10 cafes\n",
                    "name": "stdout"
                },
                {
                    "output_type": "execute_result",
                    "execution_count": 136,
                    "data": {
                        "text/plain": "                        uid                                       name  \\\n0  412d2800f964a520df0c1fe3                               Central Park   \n1  4a229fa8f964a520797d1fe3       Jacqueline Kennedy Onassis Reservoir   \n2  4c531929479fc9282b90ee90              Central Park West - W 86th St   \n3  4f9eff31e4b04f3d0b31ee82  Central Park Great Lawn Softball Field #7   \n4  4bddeb62ffdec92800f5e6a1                                Summit Rock   \n\n        shortname address postalcode        lat        lng  \n0            Park              10028  40.783076 -73.965497  \n1       Reservoir              10024  40.785021 -73.962516  \n2            Park              10024  40.785417 -73.969519  \n3  Baseball Field              10024  40.783468 -73.965544  \n4            Park              10024  40.783461 -73.969979  ",
                        "text/html": "<div>\n<style scoped>\n    .dataframe tbody tr th:only-of-type {\n        vertical-align: middle;\n    }\n\n    .dataframe tbody tr th {\n        vertical-align: top;\n    }\n\n    .dataframe thead th {\n        text-align: right;\n    }\n</style>\n<table border=\"1\" class=\"dataframe\">\n  <thead>\n    <tr style=\"text-align: right;\">\n      <th></th>\n      <th>uid</th>\n      <th>name</th>\n      <th>shortname</th>\n      <th>address</th>\n      <th>postalcode</th>\n      <th>lat</th>\n      <th>lng</th>\n    </tr>\n  </thead>\n  <tbody>\n    <tr>\n      <th>0</th>\n      <td>412d2800f964a520df0c1fe3</td>\n      <td>Central Park</td>\n      <td>Park</td>\n      <td></td>\n      <td>10028</td>\n      <td>40.783076</td>\n      <td>-73.965497</td>\n    </tr>\n    <tr>\n      <th>1</th>\n      <td>4a229fa8f964a520797d1fe3</td>\n      <td>Jacqueline Kennedy Onassis Reservoir</td>\n      <td>Reservoir</td>\n      <td></td>\n      <td>10024</td>\n      <td>40.785021</td>\n      <td>-73.962516</td>\n    </tr>\n    <tr>\n      <th>2</th>\n      <td>4c531929479fc9282b90ee90</td>\n      <td>Central Park West - W 86th St</td>\n      <td>Park</td>\n      <td></td>\n      <td>10024</td>\n      <td>40.785417</td>\n      <td>-73.969519</td>\n    </tr>\n    <tr>\n      <th>3</th>\n      <td>4f9eff31e4b04f3d0b31ee82</td>\n      <td>Central Park Great Lawn Softball Field #7</td>\n      <td>Baseball Field</td>\n      <td></td>\n      <td>10024</td>\n      <td>40.783468</td>\n      <td>-73.965544</td>\n    </tr>\n    <tr>\n      <th>4</th>\n      <td>4bddeb62ffdec92800f5e6a1</td>\n      <td>Summit Rock</td>\n      <td>Park</td>\n      <td></td>\n      <td>10024</td>\n      <td>40.783461</td>\n      <td>-73.969979</td>\n    </tr>\n  </tbody>\n</table>\n</div>"
                    },
                    "metadata": {}
                }
            ]
        },
        {
            "metadata": {},
            "cell_type": "code",
            "source": "Manhattan_center = d[\"geocode\"][\"center\"]\nManhattan_center",
            "execution_count": 137,
            "outputs": [
                {
                    "output_type": "execute_result",
                    "execution_count": 137,
                    "data": {
                        "text/plain": "{'lat': 40.78343, 'lng': -73.96625}"
                    },
                    "metadata": {}
                }
            ]
        },
        {
            "metadata": {},
            "cell_type": "code",
            "source": "import folium",
            "execution_count": 138,
            "outputs": []
        },
        {
            "metadata": {},
            "cell_type": "code",
            "source": "from folium import plugins\n\n\nmap_Manhattan = folium.Map(location=[40.78343, -73.96625], zoom_start=14)\n\ndef add_markers(df):\n    for (j, row) in df.iterrows():\n        label = folium.Popup(row[\"name\"], parse_html=True)\n        folium.CircleMarker(\n            [row[\"lat\"], row[\"lng\"]],\n            radius=5,\n            popup=label,\n            color='red',\n            fill=True,\n            fill_color='#3186cc',\n            fill_opacity=0.7,\n            parse_html=False).add_to(map_Manhattan)\n\nimport pandas as pd\n\ndf = pd.DataFrame(df_raw, columns=[\"uid\", \"name\", \"shortname\", \"address\", \"postalcode\", \"lat\", \"lng\"])\n\nadd_markers(df)\nhm_data = df[[\"lat\", \"lng\"]].to_numpy().tolist()\nmap_Manhattan.add_child(plugins.HeatMap(hm_data))\n\nmap_Manhattan",
            "execution_count": 145,
            "outputs": [
                {
                    "output_type": "execute_result",
                    "execution_count": 145,
                    "data": {
                        "text/plain": "<folium.folium.Map at 0x7f3b60ccc610>",
                        "text/html": "<div style=\"width:100%;\"><div style=\"position:relative;width:100%;height:0;padding-bottom:60%;\"><span style=\"color:#565656\">Make this Notebook Trusted to load map: File -> Trust Notebook</span><iframe src=\"about:blank\" style=\"position:absolute;width:100%;height:100%;left:0;top:0;border:none !important;\" data-html=%3C%21DOCTYPE%20html%3E%0A%3Chead%3E%20%20%20%20%0A%20%20%20%20%3Cmeta%20http-equiv%3D%22content-type%22%20content%3D%22text/html%3B%20charset%3DUTF-8%22%20/%3E%0A%20%20%20%20%3Cscript%3EL_PREFER_CANVAS%20%3D%20false%3B%20L_NO_TOUCH%20%3D%20false%3B%20L_DISABLE_3D%20%3D%20false%3B%3C/script%3E%0A%20%20%20%20%3Cscript%20src%3D%22https%3A//cdn.jsdelivr.net/npm/leaflet%401.2.0/dist/leaflet.js%22%3E%3C/script%3E%0A%20%20%20%20%3Cscript%20src%3D%22https%3A//ajax.googleapis.com/ajax/libs/jquery/1.11.1/jquery.min.js%22%3E%3C/script%3E%0A%20%20%20%20%3Cscript%20src%3D%22https%3A//maxcdn.bootstrapcdn.com/bootstrap/3.2.0/js/bootstrap.min.js%22%3E%3C/script%3E%0A%20%20%20%20%3Cscript%20src%3D%22https%3A//cdnjs.cloudflare.com/ajax/libs/Leaflet.awesome-markers/2.0.2/leaflet.awesome-markers.js%22%3E%3C/script%3E%0A%20%20%20%20%3Clink%20rel%3D%22stylesheet%22%20href%3D%22https%3A//cdn.jsdelivr.net/npm/leaflet%401.2.0/dist/leaflet.css%22/%3E%0A%20%20%20%20%3Clink%20rel%3D%22stylesheet%22%20href%3D%22https%3A//maxcdn.bootstrapcdn.com/bootstrap/3.2.0/css/bootstrap.min.css%22/%3E%0A%20%20%20%20%3Clink%20rel%3D%22stylesheet%22%20href%3D%22https%3A//maxcdn.bootstrapcdn.com/bootstrap/3.2.0/css/bootstrap-theme.min.css%22/%3E%0A%20%20%20%20%3Clink%20rel%3D%22stylesheet%22%20href%3D%22https%3A//maxcdn.bootstrapcdn.com/font-awesome/4.6.3/css/font-awesome.min.css%22/%3E%0A%20%20%20%20%3Clink%20rel%3D%22stylesheet%22%20href%3D%22https%3A//cdnjs.cloudflare.com/ajax/libs/Leaflet.awesome-markers/2.0.2/leaflet.awesome-markers.css%22/%3E%0A%20%20%20%20%3Clink%20rel%3D%22stylesheet%22%20href%3D%22https%3A//rawgit.com/python-visualization/folium/master/folium/templates/leaflet.awesome.rotate.css%22/%3E%0A%20%20%20%20%3Cstyle%3Ehtml%2C%20body%20%7Bwidth%3A%20100%25%3Bheight%3A%20100%25%3Bmargin%3A%200%3Bpadding%3A%200%3B%7D%3C/style%3E%0A%20%20%20%20%3Cstyle%3E%23map%20%7Bposition%3Aabsolute%3Btop%3A0%3Bbottom%3A0%3Bright%3A0%3Bleft%3A0%3B%7D%3C/style%3E%0A%20%20%20%20%0A%20%20%20%20%20%20%20%20%20%20%20%20%3Cstyle%3E%20%23map_e7ad8859edcf4ebaaa71011fdbb62ff0%20%7B%0A%20%20%20%20%20%20%20%20%20%20%20%20%20%20%20%20position%20%3A%20relative%3B%0A%20%20%20%20%20%20%20%20%20%20%20%20%20%20%20%20width%20%3A%20100.0%25%3B%0A%20%20%20%20%20%20%20%20%20%20%20%20%20%20%20%20height%3A%20100.0%25%3B%0A%20%20%20%20%20%20%20%20%20%20%20%20%20%20%20%20left%3A%200.0%25%3B%0A%20%20%20%20%20%20%20%20%20%20%20%20%20%20%20%20top%3A%200.0%25%3B%0A%20%20%20%20%20%20%20%20%20%20%20%20%20%20%20%20%7D%0A%20%20%20%20%20%20%20%20%20%20%20%20%3C/style%3E%0A%20%20%20%20%20%20%20%20%0A%20%20%20%20%3Cscript%20src%3D%22https%3A//leaflet.github.io/Leaflet.heat/dist/leaflet-heat.js%22%3E%3C/script%3E%0A%3C/head%3E%0A%3Cbody%3E%20%20%20%20%0A%20%20%20%20%0A%20%20%20%20%20%20%20%20%20%20%20%20%3Cdiv%20class%3D%22folium-map%22%20id%3D%22map_e7ad8859edcf4ebaaa71011fdbb62ff0%22%20%3E%3C/div%3E%0A%20%20%20%20%20%20%20%20%0A%3C/body%3E%0A%3Cscript%3E%20%20%20%20%0A%20%20%20%20%0A%0A%20%20%20%20%20%20%20%20%20%20%20%20%0A%20%20%20%20%20%20%20%20%20%20%20%20%20%20%20%20var%20bounds%20%3D%20null%3B%0A%20%20%20%20%20%20%20%20%20%20%20%20%0A%0A%20%20%20%20%20%20%20%20%20%20%20%20var%20map_e7ad8859edcf4ebaaa71011fdbb62ff0%20%3D%20L.map%28%0A%20%20%20%20%20%20%20%20%20%20%20%20%20%20%20%20%20%20%20%20%20%20%20%20%20%20%20%20%20%20%20%20%20%20%27map_e7ad8859edcf4ebaaa71011fdbb62ff0%27%2C%0A%20%20%20%20%20%20%20%20%20%20%20%20%20%20%20%20%20%20%20%20%20%20%20%20%20%20%20%20%20%20%20%20%20%20%7Bcenter%3A%20%5B40.78343%2C-73.96625%5D%2C%0A%20%20%20%20%20%20%20%20%20%20%20%20%20%20%20%20%20%20%20%20%20%20%20%20%20%20%20%20%20%20%20%20%20%20zoom%3A%2014%2C%0A%20%20%20%20%20%20%20%20%20%20%20%20%20%20%20%20%20%20%20%20%20%20%20%20%20%20%20%20%20%20%20%20%20%20maxBounds%3A%20bounds%2C%0A%20%20%20%20%20%20%20%20%20%20%20%20%20%20%20%20%20%20%20%20%20%20%20%20%20%20%20%20%20%20%20%20%20%20layers%3A%20%5B%5D%2C%0A%20%20%20%20%20%20%20%20%20%20%20%20%20%20%20%20%20%20%20%20%20%20%20%20%20%20%20%20%20%20%20%20%20%20worldCopyJump%3A%20false%2C%0A%20%20%20%20%20%20%20%20%20%20%20%20%20%20%20%20%20%20%20%20%20%20%20%20%20%20%20%20%20%20%20%20%20%20crs%3A%20L.CRS.EPSG3857%0A%20%20%20%20%20%20%20%20%20%20%20%20%20%20%20%20%20%20%20%20%20%20%20%20%20%20%20%20%20%20%20%20%20%7D%29%3B%0A%20%20%20%20%20%20%20%20%20%20%20%20%0A%20%20%20%20%20%20%20%20%0A%20%20%20%20%0A%20%20%20%20%20%20%20%20%20%20%20%20var%20tile_layer_3665003294b0456ca733365545668cb9%20%3D%20L.tileLayer%28%0A%20%20%20%20%20%20%20%20%20%20%20%20%20%20%20%20%27https%3A//%7Bs%7D.tile.openstreetmap.org/%7Bz%7D/%7Bx%7D/%7By%7D.png%27%2C%0A%20%20%20%20%20%20%20%20%20%20%20%20%20%20%20%20%7B%0A%20%20%22attribution%22%3A%20null%2C%0A%20%20%22detectRetina%22%3A%20false%2C%0A%20%20%22maxZoom%22%3A%2018%2C%0A%20%20%22minZoom%22%3A%201%2C%0A%20%20%22noWrap%22%3A%20false%2C%0A%20%20%22subdomains%22%3A%20%22abc%22%0A%7D%0A%20%20%20%20%20%20%20%20%20%20%20%20%20%20%20%20%29.addTo%28map_e7ad8859edcf4ebaaa71011fdbb62ff0%29%3B%0A%20%20%20%20%20%20%20%20%0A%20%20%20%20%0A%20%20%20%20%20%20%20%20%20%20%20%20var%20circle_marker_7bcce283d80046ce9f0b431fbf0b20a8%20%3D%20L.circleMarker%28%0A%20%20%20%20%20%20%20%20%20%20%20%20%20%20%20%20%5B40.78307608904521%2C-73.96549701690674%5D%2C%0A%20%20%20%20%20%20%20%20%20%20%20%20%20%20%20%20%7B%0A%20%20%22bubblingMouseEvents%22%3A%20true%2C%0A%20%20%22color%22%3A%20%22red%22%2C%0A%20%20%22dashArray%22%3A%20null%2C%0A%20%20%22dashOffset%22%3A%20null%2C%0A%20%20%22fill%22%3A%20true%2C%0A%20%20%22fillColor%22%3A%20%22%233186cc%22%2C%0A%20%20%22fillOpacity%22%3A%200.7%2C%0A%20%20%22fillRule%22%3A%20%22evenodd%22%2C%0A%20%20%22lineCap%22%3A%20%22round%22%2C%0A%20%20%22lineJoin%22%3A%20%22round%22%2C%0A%20%20%22opacity%22%3A%201.0%2C%0A%20%20%22radius%22%3A%205%2C%0A%20%20%22stroke%22%3A%20true%2C%0A%20%20%22weight%22%3A%203%0A%7D%0A%20%20%20%20%20%20%20%20%20%20%20%20%20%20%20%20%29.addTo%28map_e7ad8859edcf4ebaaa71011fdbb62ff0%29%3B%0A%20%20%20%20%20%20%20%20%20%20%20%20%0A%20%20%20%20%0A%20%20%20%20%20%20%20%20%20%20%20%20var%20popup_f6bbe4bd6638475f9b92b94e571689a0%20%3D%20L.popup%28%7BmaxWidth%3A%20%27300%27%7D%29%3B%0A%0A%20%20%20%20%20%20%20%20%20%20%20%20%0A%20%20%20%20%20%20%20%20%20%20%20%20%20%20%20%20var%20html_097511a4bfa5467aa89eaac58991863f%20%3D%20%24%28%27%3Cdiv%20id%3D%22html_097511a4bfa5467aa89eaac58991863f%22%20style%3D%22width%3A%20100.0%25%3B%20height%3A%20100.0%25%3B%22%3ECentral%20Park%3C/div%3E%27%29%5B0%5D%3B%0A%20%20%20%20%20%20%20%20%20%20%20%20%20%20%20%20popup_f6bbe4bd6638475f9b92b94e571689a0.setContent%28html_097511a4bfa5467aa89eaac58991863f%29%3B%0A%20%20%20%20%20%20%20%20%20%20%20%20%0A%0A%20%20%20%20%20%20%20%20%20%20%20%20circle_marker_7bcce283d80046ce9f0b431fbf0b20a8.bindPopup%28popup_f6bbe4bd6638475f9b92b94e571689a0%29%3B%0A%0A%20%20%20%20%20%20%20%20%20%20%20%20%0A%20%20%20%20%20%20%20%20%0A%20%20%20%20%0A%20%20%20%20%20%20%20%20%20%20%20%20var%20circle_marker_d73a28fd23d74944b4fc0d5d4176b2e8%20%3D%20L.circleMarker%28%0A%20%20%20%20%20%20%20%20%20%20%20%20%20%20%20%20%5B40.78502085756961%2C-73.96251596217675%5D%2C%0A%20%20%20%20%20%20%20%20%20%20%20%20%20%20%20%20%7B%0A%20%20%22bubblingMouseEvents%22%3A%20true%2C%0A%20%20%22color%22%3A%20%22red%22%2C%0A%20%20%22dashArray%22%3A%20null%2C%0A%20%20%22dashOffset%22%3A%20null%2C%0A%20%20%22fill%22%3A%20true%2C%0A%20%20%22fillColor%22%3A%20%22%233186cc%22%2C%0A%20%20%22fillOpacity%22%3A%200.7%2C%0A%20%20%22fillRule%22%3A%20%22evenodd%22%2C%0A%20%20%22lineCap%22%3A%20%22round%22%2C%0A%20%20%22lineJoin%22%3A%20%22round%22%2C%0A%20%20%22opacity%22%3A%201.0%2C%0A%20%20%22radius%22%3A%205%2C%0A%20%20%22stroke%22%3A%20true%2C%0A%20%20%22weight%22%3A%203%0A%7D%0A%20%20%20%20%20%20%20%20%20%20%20%20%20%20%20%20%29.addTo%28map_e7ad8859edcf4ebaaa71011fdbb62ff0%29%3B%0A%20%20%20%20%20%20%20%20%20%20%20%20%0A%20%20%20%20%0A%20%20%20%20%20%20%20%20%20%20%20%20var%20popup_62006c9221974fceae9e6e7e5ea1fa5e%20%3D%20L.popup%28%7BmaxWidth%3A%20%27300%27%7D%29%3B%0A%0A%20%20%20%20%20%20%20%20%20%20%20%20%0A%20%20%20%20%20%20%20%20%20%20%20%20%20%20%20%20var%20html_ae357f5e805f4da899b5d68100d1553c%20%3D%20%24%28%27%3Cdiv%20id%3D%22html_ae357f5e805f4da899b5d68100d1553c%22%20style%3D%22width%3A%20100.0%25%3B%20height%3A%20100.0%25%3B%22%3EJacqueline%20Kennedy%20Onassis%20Reservoir%3C/div%3E%27%29%5B0%5D%3B%0A%20%20%20%20%20%20%20%20%20%20%20%20%20%20%20%20popup_62006c9221974fceae9e6e7e5ea1fa5e.setContent%28html_ae357f5e805f4da899b5d68100d1553c%29%3B%0A%20%20%20%20%20%20%20%20%20%20%20%20%0A%0A%20%20%20%20%20%20%20%20%20%20%20%20circle_marker_d73a28fd23d74944b4fc0d5d4176b2e8.bindPopup%28popup_62006c9221974fceae9e6e7e5ea1fa5e%29%3B%0A%0A%20%20%20%20%20%20%20%20%20%20%20%20%0A%20%20%20%20%20%20%20%20%0A%20%20%20%20%0A%20%20%20%20%20%20%20%20%20%20%20%20var%20circle_marker_a75f69f3f67a4388a6632f347fae283b%20%3D%20L.circleMarker%28%0A%20%20%20%20%20%20%20%20%20%20%20%20%20%20%20%20%5B40.785416912200375%2C-73.96951937240297%5D%2C%0A%20%20%20%20%20%20%20%20%20%20%20%20%20%20%20%20%7B%0A%20%20%22bubblingMouseEvents%22%3A%20true%2C%0A%20%20%22color%22%3A%20%22red%22%2C%0A%20%20%22dashArray%22%3A%20null%2C%0A%20%20%22dashOffset%22%3A%20null%2C%0A%20%20%22fill%22%3A%20true%2C%0A%20%20%22fillColor%22%3A%20%22%233186cc%22%2C%0A%20%20%22fillOpacity%22%3A%200.7%2C%0A%20%20%22fillRule%22%3A%20%22evenodd%22%2C%0A%20%20%22lineCap%22%3A%20%22round%22%2C%0A%20%20%22lineJoin%22%3A%20%22round%22%2C%0A%20%20%22opacity%22%3A%201.0%2C%0A%20%20%22radius%22%3A%205%2C%0A%20%20%22stroke%22%3A%20true%2C%0A%20%20%22weight%22%3A%203%0A%7D%0A%20%20%20%20%20%20%20%20%20%20%20%20%20%20%20%20%29.addTo%28map_e7ad8859edcf4ebaaa71011fdbb62ff0%29%3B%0A%20%20%20%20%20%20%20%20%20%20%20%20%0A%20%20%20%20%0A%20%20%20%20%20%20%20%20%20%20%20%20var%20popup_c1958760fd5d46678214e4f9cde52288%20%3D%20L.popup%28%7BmaxWidth%3A%20%27300%27%7D%29%3B%0A%0A%20%20%20%20%20%20%20%20%20%20%20%20%0A%20%20%20%20%20%20%20%20%20%20%20%20%20%20%20%20var%20html_15f8a8b40d4b4e91858c4f7d95a7507d%20%3D%20%24%28%27%3Cdiv%20id%3D%22html_15f8a8b40d4b4e91858c4f7d95a7507d%22%20style%3D%22width%3A%20100.0%25%3B%20height%3A%20100.0%25%3B%22%3ECentral%20Park%20West%20-%20W%2086th%20St%3C/div%3E%27%29%5B0%5D%3B%0A%20%20%20%20%20%20%20%20%20%20%20%20%20%20%20%20popup_c1958760fd5d46678214e4f9cde52288.setContent%28html_15f8a8b40d4b4e91858c4f7d95a7507d%29%3B%0A%20%20%20%20%20%20%20%20%20%20%20%20%0A%0A%20%20%20%20%20%20%20%20%20%20%20%20circle_marker_a75f69f3f67a4388a6632f347fae283b.bindPopup%28popup_c1958760fd5d46678214e4f9cde52288%29%3B%0A%0A%20%20%20%20%20%20%20%20%20%20%20%20%0A%20%20%20%20%20%20%20%20%0A%20%20%20%20%0A%20%20%20%20%20%20%20%20%20%20%20%20var%20circle_marker_3e79d5eda758488aabec3360b4eea7e4%20%3D%20L.circleMarker%28%0A%20%20%20%20%20%20%20%20%20%20%20%20%20%20%20%20%5B40.783468165618885%2C-73.96554352790373%5D%2C%0A%20%20%20%20%20%20%20%20%20%20%20%20%20%20%20%20%7B%0A%20%20%22bubblingMouseEvents%22%3A%20true%2C%0A%20%20%22color%22%3A%20%22red%22%2C%0A%20%20%22dashArray%22%3A%20null%2C%0A%20%20%22dashOffset%22%3A%20null%2C%0A%20%20%22fill%22%3A%20true%2C%0A%20%20%22fillColor%22%3A%20%22%233186cc%22%2C%0A%20%20%22fillOpacity%22%3A%200.7%2C%0A%20%20%22fillRule%22%3A%20%22evenodd%22%2C%0A%20%20%22lineCap%22%3A%20%22round%22%2C%0A%20%20%22lineJoin%22%3A%20%22round%22%2C%0A%20%20%22opacity%22%3A%201.0%2C%0A%20%20%22radius%22%3A%205%2C%0A%20%20%22stroke%22%3A%20true%2C%0A%20%20%22weight%22%3A%203%0A%7D%0A%20%20%20%20%20%20%20%20%20%20%20%20%20%20%20%20%29.addTo%28map_e7ad8859edcf4ebaaa71011fdbb62ff0%29%3B%0A%20%20%20%20%20%20%20%20%20%20%20%20%0A%20%20%20%20%0A%20%20%20%20%20%20%20%20%20%20%20%20var%20popup_0c992acdcac74a4c9af7b2fd5b18b39c%20%3D%20L.popup%28%7BmaxWidth%3A%20%27300%27%7D%29%3B%0A%0A%20%20%20%20%20%20%20%20%20%20%20%20%0A%20%20%20%20%20%20%20%20%20%20%20%20%20%20%20%20var%20html_10a07a5d51b449f6a1f8ee66ae862220%20%3D%20%24%28%27%3Cdiv%20id%3D%22html_10a07a5d51b449f6a1f8ee66ae862220%22%20style%3D%22width%3A%20100.0%25%3B%20height%3A%20100.0%25%3B%22%3ECentral%20Park%20Great%20Lawn%20Softball%20Field%20%237%3C/div%3E%27%29%5B0%5D%3B%0A%20%20%20%20%20%20%20%20%20%20%20%20%20%20%20%20popup_0c992acdcac74a4c9af7b2fd5b18b39c.setContent%28html_10a07a5d51b449f6a1f8ee66ae862220%29%3B%0A%20%20%20%20%20%20%20%20%20%20%20%20%0A%0A%20%20%20%20%20%20%20%20%20%20%20%20circle_marker_3e79d5eda758488aabec3360b4eea7e4.bindPopup%28popup_0c992acdcac74a4c9af7b2fd5b18b39c%29%3B%0A%0A%20%20%20%20%20%20%20%20%20%20%20%20%0A%20%20%20%20%20%20%20%20%0A%20%20%20%20%0A%20%20%20%20%20%20%20%20%20%20%20%20var%20circle_marker_c38333b7ad5c4dcfa3084cc680d2ef2e%20%3D%20L.circleMarker%28%0A%20%20%20%20%20%20%20%20%20%20%20%20%20%20%20%20%5B40.783461096319215%2C-73.9699792289987%5D%2C%0A%20%20%20%20%20%20%20%20%20%20%20%20%20%20%20%20%7B%0A%20%20%22bubblingMouseEvents%22%3A%20true%2C%0A%20%20%22color%22%3A%20%22red%22%2C%0A%20%20%22dashArray%22%3A%20null%2C%0A%20%20%22dashOffset%22%3A%20null%2C%0A%20%20%22fill%22%3A%20true%2C%0A%20%20%22fillColor%22%3A%20%22%233186cc%22%2C%0A%20%20%22fillOpacity%22%3A%200.7%2C%0A%20%20%22fillRule%22%3A%20%22evenodd%22%2C%0A%20%20%22lineCap%22%3A%20%22round%22%2C%0A%20%20%22lineJoin%22%3A%20%22round%22%2C%0A%20%20%22opacity%22%3A%201.0%2C%0A%20%20%22radius%22%3A%205%2C%0A%20%20%22stroke%22%3A%20true%2C%0A%20%20%22weight%22%3A%203%0A%7D%0A%20%20%20%20%20%20%20%20%20%20%20%20%20%20%20%20%29.addTo%28map_e7ad8859edcf4ebaaa71011fdbb62ff0%29%3B%0A%20%20%20%20%20%20%20%20%20%20%20%20%0A%20%20%20%20%0A%20%20%20%20%20%20%20%20%20%20%20%20var%20popup_bf1fe2eeaaf242b0824570324ad27419%20%3D%20L.popup%28%7BmaxWidth%3A%20%27300%27%7D%29%3B%0A%0A%20%20%20%20%20%20%20%20%20%20%20%20%0A%20%20%20%20%20%20%20%20%20%20%20%20%20%20%20%20var%20html_e8e6809c0b714a39a9d8f657353fe336%20%3D%20%24%28%27%3Cdiv%20id%3D%22html_e8e6809c0b714a39a9d8f657353fe336%22%20style%3D%22width%3A%20100.0%25%3B%20height%3A%20100.0%25%3B%22%3ESummit%20Rock%3C/div%3E%27%29%5B0%5D%3B%0A%20%20%20%20%20%20%20%20%20%20%20%20%20%20%20%20popup_bf1fe2eeaaf242b0824570324ad27419.setContent%28html_e8e6809c0b714a39a9d8f657353fe336%29%3B%0A%20%20%20%20%20%20%20%20%20%20%20%20%0A%0A%20%20%20%20%20%20%20%20%20%20%20%20circle_marker_c38333b7ad5c4dcfa3084cc680d2ef2e.bindPopup%28popup_bf1fe2eeaaf242b0824570324ad27419%29%3B%0A%0A%20%20%20%20%20%20%20%20%20%20%20%20%0A%20%20%20%20%20%20%20%20%0A%20%20%20%20%0A%20%20%20%20%20%20%20%20%20%20%20%20var%20circle_marker_d624101c14a14105a6ff47850ff97ac8%20%3D%20L.circleMarker%28%0A%20%20%20%20%20%20%20%20%20%20%20%20%20%20%20%20%5B40.78026521337381%2C-73.96878004074097%5D%2C%0A%20%20%20%20%20%20%20%20%20%20%20%20%20%20%20%20%7B%0A%20%20%22bubblingMouseEvents%22%3A%20true%2C%0A%20%20%22color%22%3A%20%22red%22%2C%0A%20%20%22dashArray%22%3A%20null%2C%0A%20%20%22dashOffset%22%3A%20null%2C%0A%20%20%22fill%22%3A%20true%2C%0A%20%20%22fillColor%22%3A%20%22%233186cc%22%2C%0A%20%20%22fillOpacity%22%3A%200.7%2C%0A%20%20%22fillRule%22%3A%20%22evenodd%22%2C%0A%20%20%22lineCap%22%3A%20%22round%22%2C%0A%20%20%22lineJoin%22%3A%20%22round%22%2C%0A%20%20%22opacity%22%3A%201.0%2C%0A%20%20%22radius%22%3A%205%2C%0A%20%20%22stroke%22%3A%20true%2C%0A%20%20%22weight%22%3A%203%0A%7D%0A%20%20%20%20%20%20%20%20%20%20%20%20%20%20%20%20%29.addTo%28map_e7ad8859edcf4ebaaa71011fdbb62ff0%29%3B%0A%20%20%20%20%20%20%20%20%20%20%20%20%0A%20%20%20%20%0A%20%20%20%20%20%20%20%20%20%20%20%20var%20popup_84c13bd0804f4522a7ce5ccb6dfc4b04%20%3D%20L.popup%28%7BmaxWidth%3A%20%27300%27%7D%29%3B%0A%0A%20%20%20%20%20%20%20%20%20%20%20%20%0A%20%20%20%20%20%20%20%20%20%20%20%20%20%20%20%20var%20html_4db16ac0bc20458bbfaa54ccf12580bb%20%3D%20%24%28%27%3Cdiv%20id%3D%22html_4db16ac0bc20458bbfaa54ccf12580bb%22%20style%3D%22width%3A%20100.0%25%3B%20height%3A%20100.0%25%3B%22%3EDelacorte%20Theater%3C/div%3E%27%29%5B0%5D%3B%0A%20%20%20%20%20%20%20%20%20%20%20%20%20%20%20%20popup_84c13bd0804f4522a7ce5ccb6dfc4b04.setContent%28html_4db16ac0bc20458bbfaa54ccf12580bb%29%3B%0A%20%20%20%20%20%20%20%20%20%20%20%20%0A%0A%20%20%20%20%20%20%20%20%20%20%20%20circle_marker_d624101c14a14105a6ff47850ff97ac8.bindPopup%28popup_84c13bd0804f4522a7ce5ccb6dfc4b04%29%3B%0A%0A%20%20%20%20%20%20%20%20%20%20%20%20%0A%20%20%20%20%20%20%20%20%0A%20%20%20%20%0A%20%20%20%20%20%20%20%20%20%20%20%20var%20circle_marker_f010a0df24b64a9d8d7b227b8556a63d%20%3D%20L.circleMarker%28%0A%20%20%20%20%20%20%20%20%20%20%20%20%20%20%20%20%5B40.780985413120106%2C-73.96449625006831%5D%2C%0A%20%20%20%20%20%20%20%20%20%20%20%20%20%20%20%20%7B%0A%20%20%22bubblingMouseEvents%22%3A%20true%2C%0A%20%20%22color%22%3A%20%22red%22%2C%0A%20%20%22dashArray%22%3A%20null%2C%0A%20%20%22dashOffset%22%3A%20null%2C%0A%20%20%22fill%22%3A%20true%2C%0A%20%20%22fillColor%22%3A%20%22%233186cc%22%2C%0A%20%20%22fillOpacity%22%3A%200.7%2C%0A%20%20%22fillRule%22%3A%20%22evenodd%22%2C%0A%20%20%22lineCap%22%3A%20%22round%22%2C%0A%20%20%22lineJoin%22%3A%20%22round%22%2C%0A%20%20%22opacity%22%3A%201.0%2C%0A%20%20%22radius%22%3A%205%2C%0A%20%20%22stroke%22%3A%20true%2C%0A%20%20%22weight%22%3A%203%0A%7D%0A%20%20%20%20%20%20%20%20%20%20%20%20%20%20%20%20%29.addTo%28map_e7ad8859edcf4ebaaa71011fdbb62ff0%29%3B%0A%20%20%20%20%20%20%20%20%20%20%20%20%0A%20%20%20%20%0A%20%20%20%20%20%20%20%20%20%20%20%20var%20popup_531813c0a2f446c1b1d8394376741301%20%3D%20L.popup%28%7BmaxWidth%3A%20%27300%27%7D%29%3B%0A%0A%20%20%20%20%20%20%20%20%20%20%20%20%0A%20%20%20%20%20%20%20%20%20%20%20%20%20%20%20%20var%20html_d01f710d597d47ec9e966864e2abe47c%20%3D%20%24%28%27%3Cdiv%20id%3D%22html_d01f710d597d47ec9e966864e2abe47c%22%20style%3D%22width%3A%20100.0%25%3B%20height%3A%20100.0%25%3B%22%3EAlexander%20Hamilton%20Statue%3C/div%3E%27%29%5B0%5D%3B%0A%20%20%20%20%20%20%20%20%20%20%20%20%20%20%20%20popup_531813c0a2f446c1b1d8394376741301.setContent%28html_d01f710d597d47ec9e966864e2abe47c%29%3B%0A%20%20%20%20%20%20%20%20%20%20%20%20%0A%0A%20%20%20%20%20%20%20%20%20%20%20%20circle_marker_f010a0df24b64a9d8d7b227b8556a63d.bindPopup%28popup_531813c0a2f446c1b1d8394376741301%29%3B%0A%0A%20%20%20%20%20%20%20%20%20%20%20%20%0A%20%20%20%20%20%20%20%20%0A%20%20%20%20%0A%20%20%20%20%20%20%20%20%20%20%20%20var%20circle_marker_5ed3007cb9494870aeda6319d2ec1421%20%3D%20L.circleMarker%28%0A%20%20%20%20%20%20%20%20%20%20%20%20%20%20%20%20%5B40.779655625514%2C-73.96542213467797%5D%2C%0A%20%20%20%20%20%20%20%20%20%20%20%20%20%20%20%20%7B%0A%20%20%22bubblingMouseEvents%22%3A%20true%2C%0A%20%20%22color%22%3A%20%22red%22%2C%0A%20%20%22dashArray%22%3A%20null%2C%0A%20%20%22dashOffset%22%3A%20null%2C%0A%20%20%22fill%22%3A%20true%2C%0A%20%20%22fillColor%22%3A%20%22%233186cc%22%2C%0A%20%20%22fillOpacity%22%3A%200.7%2C%0A%20%20%22fillRule%22%3A%20%22evenodd%22%2C%0A%20%20%22lineCap%22%3A%20%22round%22%2C%0A%20%20%22lineJoin%22%3A%20%22round%22%2C%0A%20%20%22opacity%22%3A%201.0%2C%0A%20%20%22radius%22%3A%205%2C%0A%20%20%22stroke%22%3A%20true%2C%0A%20%20%22weight%22%3A%203%0A%7D%0A%20%20%20%20%20%20%20%20%20%20%20%20%20%20%20%20%29.addTo%28map_e7ad8859edcf4ebaaa71011fdbb62ff0%29%3B%0A%20%20%20%20%20%20%20%20%20%20%20%20%0A%20%20%20%20%0A%20%20%20%20%20%20%20%20%20%20%20%20var%20popup_ab351253e00f40fba0aa63b670ded446%20%3D%20L.popup%28%7BmaxWidth%3A%20%27300%27%7D%29%3B%0A%0A%20%20%20%20%20%20%20%20%20%20%20%20%0A%20%20%20%20%20%20%20%20%20%20%20%20%20%20%20%20var%20html_5721389d01dc4927bb622154adbcf0ab%20%3D%20%24%28%27%3Cdiv%20id%3D%22html_5721389d01dc4927bb622154adbcf0ab%22%20style%3D%22width%3A%20100.0%25%3B%20height%3A%20100.0%25%3B%22%3EThe%20Obelisk%20%28Cleopatra%26%2339%3Bs%20Needle%29%3C/div%3E%27%29%5B0%5D%3B%0A%20%20%20%20%20%20%20%20%20%20%20%20%20%20%20%20popup_ab351253e00f40fba0aa63b670ded446.setContent%28html_5721389d01dc4927bb622154adbcf0ab%29%3B%0A%20%20%20%20%20%20%20%20%20%20%20%20%0A%0A%20%20%20%20%20%20%20%20%20%20%20%20circle_marker_5ed3007cb9494870aeda6319d2ec1421.bindPopup%28popup_ab351253e00f40fba0aa63b670ded446%29%3B%0A%0A%20%20%20%20%20%20%20%20%20%20%20%20%0A%20%20%20%20%20%20%20%20%0A%20%20%20%20%0A%20%20%20%20%20%20%20%20%20%20%20%20var%20circle_marker_c980654dd2da402b8b0115555c44b9e3%20%3D%20L.circleMarker%28%0A%20%20%20%20%20%20%20%20%20%20%20%20%20%20%20%20%5B40.780411446833284%2C-73.96267533302307%5D%2C%0A%20%20%20%20%20%20%20%20%20%20%20%20%20%20%20%20%7B%0A%20%20%22bubblingMouseEvents%22%3A%20true%2C%0A%20%20%22color%22%3A%20%22red%22%2C%0A%20%20%22dashArray%22%3A%20null%2C%0A%20%20%22dashOffset%22%3A%20null%2C%0A%20%20%22fill%22%3A%20true%2C%0A%20%20%22fillColor%22%3A%20%22%233186cc%22%2C%0A%20%20%22fillOpacity%22%3A%200.7%2C%0A%20%20%22fillRule%22%3A%20%22evenodd%22%2C%0A%20%20%22lineCap%22%3A%20%22round%22%2C%0A%20%20%22lineJoin%22%3A%20%22round%22%2C%0A%20%20%22opacity%22%3A%201.0%2C%0A%20%20%22radius%22%3A%205%2C%0A%20%20%22stroke%22%3A%20true%2C%0A%20%20%22weight%22%3A%203%0A%7D%0A%20%20%20%20%20%20%20%20%20%20%20%20%20%20%20%20%29.addTo%28map_e7ad8859edcf4ebaaa71011fdbb62ff0%29%3B%0A%20%20%20%20%20%20%20%20%20%20%20%20%0A%20%20%20%20%0A%20%20%20%20%20%20%20%20%20%20%20%20var%20popup_7f22768a20cb47d1be81f0605904daf6%20%3D%20L.popup%28%7BmaxWidth%3A%20%27300%27%7D%29%3B%0A%0A%20%20%20%20%20%20%20%20%20%20%20%20%0A%20%20%20%20%20%20%20%20%20%20%20%20%20%20%20%20var%20html_0f76cd2c39b146439c7d9fb23145e5a5%20%3D%20%24%28%27%3Cdiv%20id%3D%22html_0f76cd2c39b146439c7d9fb23145e5a5%22%20style%3D%22width%3A%20100.0%25%3B%20height%3A%20100.0%25%3B%22%3ETemple%20of%20Dendur%3C/div%3E%27%29%5B0%5D%3B%0A%20%20%20%20%20%20%20%20%20%20%20%20%20%20%20%20popup_7f22768a20cb47d1be81f0605904daf6.setContent%28html_0f76cd2c39b146439c7d9fb23145e5a5%29%3B%0A%20%20%20%20%20%20%20%20%20%20%20%20%0A%0A%20%20%20%20%20%20%20%20%20%20%20%20circle_marker_c980654dd2da402b8b0115555c44b9e3.bindPopup%28popup_7f22768a20cb47d1be81f0605904daf6%29%3B%0A%0A%20%20%20%20%20%20%20%20%20%20%20%20%0A%20%20%20%20%20%20%20%20%0A%20%20%20%20%0A%20%20%20%20%20%20%20%20%20%20%20%20var%20circle_marker_50dca74b3ca24f77b2231dfc243fa0ac%20%3D%20L.circleMarker%28%0A%20%20%20%20%20%20%20%20%20%20%20%20%20%20%20%20%5B40.78663329972804%2C-73.96844503976378%5D%2C%0A%20%20%20%20%20%20%20%20%20%20%20%20%20%20%20%20%7B%0A%20%20%22bubblingMouseEvents%22%3A%20true%2C%0A%20%20%22color%22%3A%20%22red%22%2C%0A%20%20%22dashArray%22%3A%20null%2C%0A%20%20%22dashOffset%22%3A%20null%2C%0A%20%20%22fill%22%3A%20true%2C%0A%20%20%22fillColor%22%3A%20%22%233186cc%22%2C%0A%20%20%22fillOpacity%22%3A%200.7%2C%0A%20%20%22fillRule%22%3A%20%22evenodd%22%2C%0A%20%20%22lineCap%22%3A%20%22round%22%2C%0A%20%20%22lineJoin%22%3A%20%22round%22%2C%0A%20%20%22opacity%22%3A%201.0%2C%0A%20%20%22radius%22%3A%205%2C%0A%20%20%22stroke%22%3A%20true%2C%0A%20%20%22weight%22%3A%203%0A%7D%0A%20%20%20%20%20%20%20%20%20%20%20%20%20%20%20%20%29.addTo%28map_e7ad8859edcf4ebaaa71011fdbb62ff0%29%3B%0A%20%20%20%20%20%20%20%20%20%20%20%20%0A%20%20%20%20%0A%20%20%20%20%20%20%20%20%20%20%20%20var%20popup_12df5e340f9b4fb18dc0629c65a23d5c%20%3D%20L.popup%28%7BmaxWidth%3A%20%27300%27%7D%29%3B%0A%0A%20%20%20%20%20%20%20%20%20%20%20%20%0A%20%20%20%20%20%20%20%20%20%20%20%20%20%20%20%20var%20html_005e0039391d44a2b2e72c89e80597ef%20%3D%20%24%28%27%3Cdiv%20id%3D%22html_005e0039391d44a2b2e72c89e80597ef%22%20style%3D%22width%3A%20100.0%25%3B%20height%3A%20100.0%25%3B%22%3ECentral%20Park%20West%20-%20W%2088th%20St%3C/div%3E%27%29%5B0%5D%3B%0A%20%20%20%20%20%20%20%20%20%20%20%20%20%20%20%20popup_12df5e340f9b4fb18dc0629c65a23d5c.setContent%28html_005e0039391d44a2b2e72c89e80597ef%29%3B%0A%20%20%20%20%20%20%20%20%20%20%20%20%0A%0A%20%20%20%20%20%20%20%20%20%20%20%20circle_marker_50dca74b3ca24f77b2231dfc243fa0ac.bindPopup%28popup_12df5e340f9b4fb18dc0629c65a23d5c%29%3B%0A%0A%20%20%20%20%20%20%20%20%20%20%20%20%0A%20%20%20%20%20%20%20%20%0A%20%20%20%20%0A%20%20%20%20%20%20%20%20%20%20%20%20var%20heat_map_22915e686714468ab3cc0a6620d92d18%20%3D%20L.heatLayer%28%0A%20%20%20%20%20%20%20%20%20%20%20%20%20%20%20%20%5B%5B40.78307608904521%2C%20-73.96549701690674%5D%2C%20%5B40.78502085756961%2C%20-73.96251596217675%5D%2C%20%5B40.785416912200375%2C%20-73.96951937240297%5D%2C%20%5B40.783468165618885%2C%20-73.96554352790373%5D%2C%20%5B40.783461096319215%2C%20-73.9699792289987%5D%2C%20%5B40.78026521337381%2C%20-73.96878004074097%5D%2C%20%5B40.780985413120106%2C%20-73.96449625006831%5D%2C%20%5B40.779655625514%2C%20-73.96542213467797%5D%2C%20%5B40.780411446833284%2C%20-73.96267533302307%5D%2C%20%5B40.78663329972804%2C%20-73.96844503976378%5D%5D%2C%0A%20%20%20%20%20%20%20%20%20%20%20%20%20%20%20%20%7B%0A%20%20%20%20%20%20%20%20%20%20%20%20%20%20%20%20%20%20%20%20minOpacity%3A%200.5%2C%0A%20%20%20%20%20%20%20%20%20%20%20%20%20%20%20%20%20%20%20%20maxZoom%3A%2018%2C%0A%20%20%20%20%20%20%20%20%20%20%20%20%20%20%20%20%20%20%20%20max%3A%201.0%2C%0A%20%20%20%20%20%20%20%20%20%20%20%20%20%20%20%20%20%20%20%20radius%3A%2025%2C%0A%20%20%20%20%20%20%20%20%20%20%20%20%20%20%20%20%20%20%20%20blur%3A%2015%2C%0A%20%20%20%20%20%20%20%20%20%20%20%20%20%20%20%20%20%20%20%20gradient%3A%20null%0A%20%20%20%20%20%20%20%20%20%20%20%20%20%20%20%20%20%20%20%20%7D%29%0A%20%20%20%20%20%20%20%20%20%20%20%20%20%20%20%20.addTo%28map_e7ad8859edcf4ebaaa71011fdbb62ff0%29%3B%0A%20%20%20%20%20%20%20%20%0A%3C/script%3E onload=\"this.contentDocument.open();this.contentDocument.write(    decodeURIComponent(this.getAttribute('data-html')));this.contentDocument.close();\" allowfullscreen webkitallowfullscreen mozallowfullscreen></iframe></div></div>"
                    },
                    "metadata": {}
                }
            ]
        },
        {
            "metadata": {},
            "cell_type": "markdown",
            "source": "By applying the methodology, we found that top 9 recommended restuarants/hotels/recreation facilities are: Delacorte Theater, The Obelisk (Cleopatra's Needle), Temple of Dendur, Alexander Hamilton Statue, Central Park, Central Park Great Lawn Softball Field 7, Summit Rock, Jacqueline Kennedy Onassis Reservoir, Central Park West, Central Park West II",
            "attachments": {}
        },
        {
            "metadata": {},
            "cell_type": "markdown",
            "source": "## Discussion section: Observations"
        },
        {
            "metadata": {},
            "cell_type": "markdown",
            "source": "Due to the location of the conference centre, we could see that most of the highly recommended places was in and around Central Park. As the venue of the conference centre is a bit far from most of the restuarants. Based on the pre-mentioned: we decided to offer the delegates a shuttle services after each day of the conference to travel to and from Time Square to get a good taste of New York."
        },
        {
            "metadata": {},
            "cell_type": "markdown",
            "source": "## Conclusion"
        },
        {
            "metadata": {},
            "cell_type": "markdown",
            "source": "Based on the Survey Monkey data feedback which each delegate completed, we could see that they did enjoy Central Park, but the main attraction was Time Square. The shuttle service proved to be a great idea and most of the delegates will use our travel services again in future."
        },
        {
            "metadata": {},
            "cell_type": "code",
            "source": "",
            "execution_count": null,
            "outputs": []
        }
    ],
    "metadata": {
        "kernelspec": {
            "name": "python3",
            "display_name": "Python 3.7",
            "language": "python"
        },
        "language_info": {
            "name": "python",
            "version": "3.7.10",
            "mimetype": "text/x-python",
            "codemirror_mode": {
                "name": "ipython",
                "version": 3
            },
            "pygments_lexer": "ipython3",
            "nbconvert_exporter": "python",
            "file_extension": ".py"
        }
    },
    "nbformat": 4,
    "nbformat_minor": 1
}